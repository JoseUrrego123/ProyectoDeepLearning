{
 "cells": [
  {
   "cell_type": "markdown",
   "metadata": {
    "colab_type": "text",
    "id": "view-in-github"
   },
   "source": [
    "<a href=\"https://colab.research.google.com/github/JoseUrrego123/ProyectoDeepLearning/blob/main/03 - Preprocesamiento Datos.ipynb\" target=\"_parent\"><img src=\"https://colab.research.google.com/assets/colab-badge.svg\" alt=\"Open In Colab\"/></a>"
   ]
  },
  {
   "cell_type": "code",
   "execution_count": 30,
   "metadata": {
    "id": "DywF-xR0wlKd"
   },
   "outputs": [],
   "source": [
    "# Importar librerías\n",
    "import requests\n",
    "from io import StringIO\n",
    "import pandas as pd\n",
    "import numpy as np\n",
    "from sklearn.preprocessing import MinMaxScaler\n",
    "from sklearn.model_selection import train_test_split"
   ]
  },
  {
   "cell_type": "code",
   "execution_count": 31,
   "metadata": {
    "id": "L_-vkMZ5wuY4"
   },
   "outputs": [],
   "source": [
    "# Cargar el archivo CSV desde GitHub\n",
    "file_path = \"https://raw.githubusercontent.com/JoseUrrego123/ProyectoDeepLearning/main/combined_wind_data.csv\"\n",
    "\n",
    "# Descargar el archivo desde GitHub\n",
    "response = requests.get(file_path)\n",
    "if response.status_code == 200:\n",
    "    # Leer el contenido del archivo en un DataFrame\n",
    "    data = pd.read_csv(StringIO(response.text))\n",
    "data = pd.read_csv(file_path)"
   ]
  },
  {
   "cell_type": "code",
   "execution_count": 32,
   "metadata": {
    "id": "uhU32Ggxd_Vb"
   },
   "outputs": [],
   "source": [
    "# Convertir la columna 'Date' a tipo datetime y establecer como índice\n",
    "data['Date'] = pd.to_datetime(data['Date'])\n",
    "data.set_index('Date', inplace=True)"
   ]
  },
  {
   "cell_type": "code",
   "execution_count": 33,
   "metadata": {
    "id": "MDruUfyzwvKs"
   },
   "outputs": [],
   "source": [
    "# Normalización de las Variables\n",
    "# Seleccionar columnas numéricas para normalización (excluir 'Date')\n",
    "columns_to_normalize = [col for col in data.columns if 'WS10M_MAX' in col]\n",
    "scaler = MinMaxScaler(feature_range=(0, 1))\n",
    "data[columns_to_normalize] = scaler.fit_transform(data[columns_to_normalize])"
   ]
  },
  {
   "cell_type": "code",
   "execution_count": 34,
   "metadata": {
    "id": "k-aYtgzbp74S"
   },
   "outputs": [],
   "source": [
    "# Separar datos en características (X) y objetivo (y)\n",
    "X_scaled = data.drop(columns=['WS10M_MAX_punto6'])\n",
    "y_scaled = data['WS10M_MAX_punto6']"
   ]
  },
  {
   "cell_type": "code",
   "execution_count": 35,
   "metadata": {
    "id": "HrZxWqNFxJEw"
   },
   "outputs": [],
   "source": [
    "# Función para crear secuencias con ventanas y horizonte de pronóstico\n",
    "def create_sequences(data, target, window_size, forecast_horizon):\n",
    "    X, y = [], []\n",
    "    for i in range(len(data) - window_size - forecast_horizon + 1):\n",
    "        X.append(data[i:i + window_size])  # Ventana de entrada\n",
    "        y.append(target[i + window_size:i + window_size + forecast_horizon])  # Ventana de pronóstico\n",
    "    return np.array(X), np.array(y)"
   ]
  },
  {
   "cell_type": "code",
   "execution_count": 36,
   "metadata": {
    "id": "_-JkZOPGfs0g"
   },
   "outputs": [],
   "source": [
    "# Parámetros de ventana y horizonte\n",
    "window_size = 30  # Días de ventana\n",
    "forecast_horizon = 7  # Días a pronosticar"
   ]
  },
  {
   "cell_type": "code",
   "execution_count": 37,
   "metadata": {
    "id": "YmcJXK3Pr4CS"
   },
   "outputs": [],
   "source": [
    "# Crear secuencias\n",
    "X, y = create_sequences(X_scaled, y_scaled, window_size, forecast_horizon)"
   ]
  },
  {
   "cell_type": "code",
   "execution_count": 38,
   "metadata": {
    "id": "ickNnTugw5SE"
   },
   "outputs": [],
   "source": [
    "# División en conjuntos de entrenamiento y prueba\n",
    "X_train, X_test, y_train, y_test = train_test_split(X, y, test_size=0.2, random_state=42)"
   ]
  }
 ],
 "metadata": {
  "colab": {
   "include_colab_link": true,
   "provenance": []
  },
  "kernelspec": {
   "display_name": "Python 3 (ipykernel)",
   "language": "python",
   "name": "python3"
  },
  "language_info": {
   "codemirror_mode": {
    "name": "ipython",
    "version": 3
   },
   "file_extension": ".py",
   "mimetype": "text/x-python",
   "name": "python",
   "nbconvert_exporter": "python",
   "pygments_lexer": "ipython3",
   "version": "3.11.7"
  }
 },
 "nbformat": 4,
 "nbformat_minor": 4
}
